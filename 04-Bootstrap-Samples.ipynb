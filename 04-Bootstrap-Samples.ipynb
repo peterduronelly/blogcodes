{
 "cells": [
  {
   "cell_type": "code",
   "execution_count": 1,
   "metadata": {
    "collapsed": true
   },
   "outputs": [],
   "source": [
    "import random\n",
    "import matplotlib.pyplot as plt\n",
    "%matplotlib inline\n",
    "import pandas as pd"
   ]
  },
  {
   "cell_type": "code",
   "execution_count": 2,
   "metadata": {
    "collapsed": true
   },
   "outputs": [],
   "source": [
    "sample_sizes = []\n",
    "for i in range(10000):\n",
    "    sample = []\n",
    "    for j in range(1000):\n",
    "        sample.append(round(random.randint(1,1000)))\n",
    "    sample_sizes.append(len(set(sample)))"
   ]
  },
  {
   "cell_type": "code",
   "execution_count": 3,
   "metadata": {},
   "outputs": [
    {
     "data": {
      "text/html": [
       "<style  type=\"text/css\" >\n",
       "</style>  \n",
       "<table id=\"T_c195a40a_bcb1_11e8_9d60_5800e37268cc\" > \n",
       "<thead>    <tr> \n",
       "        <th class=\"blank level0\" ></th> \n",
       "        <th class=\"col_heading level0 col0\" >sample sizes</th> \n",
       "    </tr></thead> \n",
       "<tbody>    <tr> \n",
       "        <th id=\"T_c195a40a_bcb1_11e8_9d60_5800e37268cc\" class=\"row_heading level0 row0\" >count</th> \n",
       "        <td id=\"T_c195a40a_bcb1_11e8_9d60_5800e37268ccrow0_col0\" class=\"data row0 col0\" >10000.00</td> \n",
       "    </tr>    <tr> \n",
       "        <th id=\"T_c195a40a_bcb1_11e8_9d60_5800e37268cc\" class=\"row_heading level0 row1\" >mean</th> \n",
       "        <td id=\"T_c195a40a_bcb1_11e8_9d60_5800e37268ccrow1_col0\" class=\"data row1 col0\" >632.22</td> \n",
       "    </tr>    <tr> \n",
       "        <th id=\"T_c195a40a_bcb1_11e8_9d60_5800e37268cc\" class=\"row_heading level0 row2\" >std</th> \n",
       "        <td id=\"T_c195a40a_bcb1_11e8_9d60_5800e37268ccrow2_col0\" class=\"data row2 col0\" >9.99</td> \n",
       "    </tr>    <tr> \n",
       "        <th id=\"T_c195a40a_bcb1_11e8_9d60_5800e37268cc\" class=\"row_heading level0 row3\" >min</th> \n",
       "        <td id=\"T_c195a40a_bcb1_11e8_9d60_5800e37268ccrow3_col0\" class=\"data row3 col0\" >597.00</td> \n",
       "    </tr>    <tr> \n",
       "        <th id=\"T_c195a40a_bcb1_11e8_9d60_5800e37268cc\" class=\"row_heading level0 row4\" >25%</th> \n",
       "        <td id=\"T_c195a40a_bcb1_11e8_9d60_5800e37268ccrow4_col0\" class=\"data row4 col0\" >625.00</td> \n",
       "    </tr>    <tr> \n",
       "        <th id=\"T_c195a40a_bcb1_11e8_9d60_5800e37268cc\" class=\"row_heading level0 row5\" >50%</th> \n",
       "        <td id=\"T_c195a40a_bcb1_11e8_9d60_5800e37268ccrow5_col0\" class=\"data row5 col0\" >632.00</td> \n",
       "    </tr>    <tr> \n",
       "        <th id=\"T_c195a40a_bcb1_11e8_9d60_5800e37268cc\" class=\"row_heading level0 row6\" >75%</th> \n",
       "        <td id=\"T_c195a40a_bcb1_11e8_9d60_5800e37268ccrow6_col0\" class=\"data row6 col0\" >639.00</td> \n",
       "    </tr>    <tr> \n",
       "        <th id=\"T_c195a40a_bcb1_11e8_9d60_5800e37268cc\" class=\"row_heading level0 row7\" >max</th> \n",
       "        <td id=\"T_c195a40a_bcb1_11e8_9d60_5800e37268ccrow7_col0\" class=\"data row7 col0\" >673.00</td> \n",
       "    </tr></tbody> \n",
       "</table> "
      ],
      "text/plain": [
       "<pandas.io.formats.style.Styler at 0x1a5acc5e860>"
      ]
     },
     "execution_count": 3,
     "metadata": {},
     "output_type": "execute_result"
    }
   ],
   "source": [
    "df = pd.DataFrame(sample_sizes)\n",
    "df.columns = [\"sample sizes\"]\n",
    "df.describe().style.format('{:.2f}')"
   ]
  },
  {
   "cell_type": "code",
   "execution_count": 4,
   "metadata": {},
   "outputs": [
    {
     "data": {
      "image/png": "[encoded data removed]",
      "text/plain": [
       "<matplotlib.figure.Figure at 0x1a5afc8c780>"
      ]
     },
     "metadata": {},
     "output_type": "display_data"
    }
   ],
   "source": [
    "fig = plt.figure(figsize = (10,6))\n",
    "\n",
    "plt.hist(df[\"sample sizes\"], bins = list(range(590, 680, 2)), rwidth=0.9, color = 'k')\n",
    "plt.title(\"Bootstrap sample sizes\\noriginal sample size = 1000\")\n",
    "plt.xlabel(\"number of distinct elements in the sample\")\n",
    "plt.ylabel(\"frequency\")\n",
    "plt.show()"
   ]
  },
  {
   "cell_type": "code",
   "execution_count": null,
   "metadata": {
    "collapsed": true
   },
   "outputs": [],
   "source": []
  }
 ],
 "metadata": {
  "kernelspec": {
   "display_name": "Python 3",
   "language": "python",
   "name": "python3"
  },
  "language_info": {
   "codemirror_mode": {
    "name": "ipython",
    "version": 3
   },
   "file_extension": ".py",
   "mimetype": "text/x-python",
   "name": "python",
   "nbconvert_exporter": "python",
   "pygments_lexer": "ipython3",
   "version": "3.6.1"
  }
 },
 "nbformat": 4,
 "nbformat_minor": 2
}
